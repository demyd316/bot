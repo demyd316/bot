{
 "cells": [
  {
   "cell_type": "code",
   "execution_count": 288,
   "metadata": {},
   "outputs": [
    {
     "name": "stdout",
     "output_type": "stream",
     "text": [
      "D:\\python_bot\\autologinbot\\sound\n"
     ]
    }
   ],
   "source": [
    "from selenium import webdriver\n",
    "from selenium.webdriver.common.by import By\n",
    "from selenium.webdriver.support.ui import WebDriverWait\n",
    "from selenium.webdriver.support import expected_conditions as EC\n",
    "import time\n",
    "\n",
    "import pathlib\n",
    "\n",
    "download_path = str(pathlib.Path().absolute()) + \"\\sound\"\n",
    "print(download_path)"
   ]
  },
  {
   "cell_type": "code",
   "execution_count": 289,
   "metadata": {},
   "outputs": [],
   "source": [
    "options = webdriver.ChromeOptions()\n",
    "options.add_experimental_option(\"prefs\", {\n",
    "        \"download.default_directory\": download_path,\n",
    "        \"download.prompt_for_download\": False,\n",
    "        \"download.directory_upgrade\": True,\n",
    "        \"safebrowsing.enabled\": True\n",
    "    })\n",
    "# options.add_argument(\"download.default_directory=D:/aaa\")\n",
    "browser = webdriver.Chrome(options=options)"
   ]
  },
  {
   "cell_type": "code",
   "execution_count": 290,
   "metadata": {},
   "outputs": [],
   "source": [
    "browser.get(('https://eu.battle.net/account/creation/flow/create-full'))"
   ]
  },
  {
   "cell_type": "code",
   "execution_count": 291,
   "metadata": {},
   "outputs": [],
   "source": [
    "time.sleep(3)\n",
    "date =browser.find_element(By.NAME, \"dob-plain\")\n",
    "date.click()\n",
    "\n",
    "dob_month = browser.find_element(By.NAME, \"dob-month\")\n",
    "dob_day = browser.find_element(By.NAME, 'dob-day')\n",
    "dob_year = browser.find_element(By.NAME,'dob-year')\n",
    "\n",
    "dob_month.send_keys(12)\n",
    "dob_day.send_keys(23)\n",
    "dob_year.send_keys(2000)\n",
    "\n",
    "nextButton = browser.find_element_by_id(\"flow-form-submit-btn\")\n",
    "nextButton.click()"
   ]
  },
  {
   "cell_type": "code",
   "execution_count": 292,
   "metadata": {},
   "outputs": [],
   "source": [
    "time.sleep(1)\n",
    "firstname = browser.find_element(By.NAME, \"first-name\")\n",
    "firstname.click()\n",
    "firstname.send_keys(\"dfdss\")\n",
    "time.sleep(1)\n",
    "lastname = browser.find_element(By.NAME, 'last-name')\n",
    "lastname.click()\n",
    "lastname.send_keys(\"gdfgdb\")\n",
    "time.sleep(1)\n",
    "continueButton = browser.find_element_by_id('flow-form-submit-btn')\n",
    "continueButton.click()"
   ]
  },
  {
   "cell_type": "code",
   "execution_count": 293,
   "metadata": {},
   "outputs": [],
   "source": [
    "# email = WebDriverWait(browser, 5).until(\n",
    "#      EC.presence_of_element_located((By.NAME, \"email\")))\n",
    "time.sleep(1)\n",
    "email = browser.find_element(By.NAME, 'email')\n",
    "email.click()\n",
    "email.send_keys(\"elastic_chandrase@xitroo.com\")\n",
    "time.sleep(1)\n",
    "continueButton = browser.find_element_by_id('flow-form-submit-btn')\n",
    "continueButton.click()"
   ]
  },
  {
   "cell_type": "code",
   "execution_count": 294,
   "metadata": {},
   "outputs": [],
   "source": [
    "time.sleep(1)\n",
    "# checkboxOne = WebDriverWait(browser, 2).until(EC.presence_of_element_located((By.XPATH, '/html/body/div[1]/div/div[2]/form/label')))\n",
    "checkboxOne = browser.find_element(By.XPATH,'//*[@id=\"flow-form\"]/label/span[2]')\n",
    "checkboxOne.click()"
   ]
  },
  {
   "cell_type": "code",
   "execution_count": 295,
   "metadata": {},
   "outputs": [],
   "source": [
    "time.sleep(1)\n",
    "# checkboxTwo = WebDriverWait(browser, 8).until(EC.presence_of_element_located((By.XPATH, '//*[@id=\"legal-checkboxes\"]')))\n",
    "checkboxTwo = browser.find_element(By.XPATH,'//*[@id=\"legal-checkboxes\"]/label/span[2]')\n",
    "checkboxTwo.click()"
   ]
  },
  {
   "cell_type": "code",
   "execution_count": 296,
   "metadata": {},
   "outputs": [],
   "source": [
    "browser.switch_to.default_content()"
   ]
  },
  {
   "cell_type": "code",
   "execution_count": 297,
   "metadata": {},
   "outputs": [],
   "source": [
    "time.sleep(1)\n",
    "continueButton1 = browser.find_element_by_id('flow-form-submit-btn')\n",
    "continueButton1.click()\n"
   ]
  },
  {
   "cell_type": "code",
   "execution_count": 298,
   "metadata": {},
   "outputs": [],
   "source": [
    "iframe1 = browser.find_element_by_xpath(\"/html/body/div[6]/iframe\")\n",
    "browser.switch_to.frame(iframe1)\n",
    "\n",
    "iframe2 = browser.find_element_by_id(\"fc-iframe-wrap\")\n",
    "browser.switch_to.frame(iframe2)\n",
    "\n",
    "iframe3 = browser.find_element_by_id(\"CaptchaFrame\")\n",
    "browser.switch_to.frame(iframe3)\n",
    "\n",
    "verifybutton = browser.find_element_by_id(\"home_children_button\")\n",
    "verifybutton.click()"
   ]
  },
  {
   "cell_type": "code",
   "execution_count": 281,
   "metadata": {},
   "outputs": [],
   "source": [
    "browser.switch_to.default_content()"
   ]
  },
  {
   "cell_type": "code",
   "execution_count": 282,
   "metadata": {},
   "outputs": [],
   "source": [
    "iframe1 = browser.find_element_by_xpath(\"/html/body/div[6]/iframe\")\n",
    "browser.switch_to.frame(iframe1)\n",
    "\n",
    "iframe2 = browser.find_element_by_id(\"fc-iframe-wrap\")\n",
    "browser.switch_to.frame(iframe2)"
   ]
  },
  {
   "cell_type": "code",
   "execution_count": 283,
   "metadata": {},
   "outputs": [],
   "source": [
    "musicbutton = browser.find_element_by_css_selector(\"span.fc_meta_audio_btn\")\n",
    "musicbutton.click()"
   ]
  },
  {
   "cell_type": "code",
   "execution_count": 201,
   "metadata": {},
   "outputs": [
    {
     "ename": "ModuleNotFoundError",
     "evalue": "No module named 'azure.cognitiveservices'",
     "output_type": "error",
     "traceback": [
      "\u001b[1;31m---------------------------------------------------------------------------\u001b[0m",
      "\u001b[1;31mModuleNotFoundError\u001b[0m                       Traceback (most recent call last)",
      "\u001b[1;32m<ipython-input-201-b0be62ce8503>\u001b[0m in \u001b[0;36m<module>\u001b[1;34m\u001b[0m\n\u001b[0;32m      1\u001b[0m \u001b[0mtime\u001b[0m\u001b[1;33m.\u001b[0m\u001b[0msleep\u001b[0m\u001b[1;33m(\u001b[0m\u001b[1;36m2\u001b[0m\u001b[1;33m)\u001b[0m\u001b[1;33m\u001b[0m\u001b[1;33m\u001b[0m\u001b[0m\n\u001b[1;32m----> 2\u001b[1;33m \u001b[1;32mimport\u001b[0m \u001b[0mspeechconfig\u001b[0m \u001b[1;32mas\u001b[0m \u001b[0mspeechtext\u001b[0m\u001b[1;33m\u001b[0m\u001b[1;33m\u001b[0m\u001b[0m\n\u001b[0m\u001b[0;32m      3\u001b[0m \u001b[1;32mwhile\u001b[0m \u001b[1;32mTrue\u001b[0m\u001b[1;33m:\u001b[0m\u001b[1;33m\u001b[0m\u001b[1;33m\u001b[0m\u001b[0m\n\u001b[0;32m      4\u001b[0m      \u001b[0mdownload_sound_btn\u001b[0m \u001b[1;33m=\u001b[0m \u001b[0mbrowser\u001b[0m\u001b[1;33m.\u001b[0m\u001b[0mfind_element_by_id\u001b[0m\u001b[1;33m(\u001b[0m\u001b[1;34m\"audio_download\"\u001b[0m\u001b[1;33m)\u001b[0m\u001b[1;33m\u001b[0m\u001b[1;33m\u001b[0m\u001b[0m\n\u001b[0;32m      5\u001b[0m      \u001b[0mdownload_sound_btn\u001b[0m\u001b[1;33m.\u001b[0m\u001b[0mclick\u001b[0m\u001b[1;33m(\u001b[0m\u001b[1;33m)\u001b[0m\u001b[1;33m\u001b[0m\u001b[1;33m\u001b[0m\u001b[0m\n",
      "\u001b[1;32mD:\\python_bot\\autologinbot\\speechconfig.py\u001b[0m in \u001b[0;36m<module>\u001b[1;34m\u001b[0m\n\u001b[1;32m----> 1\u001b[1;33m \u001b[1;32mimport\u001b[0m \u001b[0mazure\u001b[0m\u001b[1;33m.\u001b[0m\u001b[0mcognitiveservices\u001b[0m\u001b[1;33m.\u001b[0m\u001b[0mspeech\u001b[0m \u001b[1;32mas\u001b[0m \u001b[0mspeechsdk\u001b[0m\u001b[1;33m\u001b[0m\u001b[1;33m\u001b[0m\u001b[0m\n\u001b[0m\u001b[0;32m      2\u001b[0m \u001b[1;33m\u001b[0m\u001b[0m\n\u001b[0;32m      3\u001b[0m \u001b[1;33m\u001b[0m\u001b[0m\n\u001b[0;32m      4\u001b[0m \u001b[1;32mdef\u001b[0m \u001b[0mfrom_file\u001b[0m\u001b[1;33m(\u001b[0m\u001b[0mfile\u001b[0m\u001b[1;33m)\u001b[0m\u001b[1;33m:\u001b[0m\u001b[1;33m\u001b[0m\u001b[1;33m\u001b[0m\u001b[0m\n\u001b[0;32m      5\u001b[0m     \u001b[0mspeech_config\u001b[0m \u001b[1;33m=\u001b[0m \u001b[0mspeechsdk\u001b[0m\u001b[1;33m.\u001b[0m\u001b[0mSpeechConfig\u001b[0m\u001b[1;33m(\u001b[0m\u001b[0msubscription\u001b[0m\u001b[1;33m=\u001b[0m\u001b[1;34m\"3785c3171b694795ad5e7ec2bc01ab7f\"\u001b[0m\u001b[1;33m,\u001b[0m \u001b[0mregion\u001b[0m\u001b[1;33m=\u001b[0m\u001b[1;34m\"canadacentral\"\u001b[0m\u001b[1;33m)\u001b[0m\u001b[1;33m\u001b[0m\u001b[1;33m\u001b[0m\u001b[0m\n",
      "\u001b[1;31mModuleNotFoundError\u001b[0m: No module named 'azure.cognitiveservices'"
     ]
    }
   ],
   "source": [
    "time.sleep(2)\n",
    "import speechconfig as speechtext\n",
    "while True:\n",
    "     download_sound_btn = browser.find_element_by_id(\"audio_download\")\n",
    "     download_sound_btn.click()\n",
    "     # cookies = browser.get_cookies()\n",
    "     # print(cookies)\n",
    "     time.sleep(4)\n",
    "     list_of_files = glob.glob(download_path + '/*') # * means all if need specific format then *.csv\n",
    "     latest_file = max(list_of_files, key=os.path.getctime)\n",
    "     print(latest_file)\n",
    "     result_text = speechtext.from_file(latest_file)\n",
    "     print(result_text)\n",
    "     if len(result_text)>6:\n",
    "          break\n"
   ]
  },
  {
   "cell_type": "code",
   "execution_count": 286,
   "metadata": {
    "scrolled": true
   },
   "outputs": [],
   "source": [
    "time.sleep(2)\n",
    "download_sound_btn = browser.find_element_by_id(\"audio_download\")\n",
    "download_sound_btn.click()\n",
    "# cookies = browser.get_cookies()\n",
    "# print(cookies)\n"
   ]
  },
  {
   "cell_type": "code",
   "execution_count": 287,
   "metadata": {},
   "outputs": [
    {
     "name": "stdout",
     "output_type": "stream",
     "text": [
      "D:\\python_bot\\autologinbot\\sound\\audio_verification_challenge_35460110d06c257a9.9555557505-7029.wav\n"
     ]
    }
   ],
   "source": [
    "import glob\n",
    "import os\n",
    "\n",
    "list_of_files = glob.glob(download_path + '/*') # * means all if need specific format then *.csv\n",
    "latest_file = max(list_of_files, key=os.path.getctime)\n",
    "print(latest_file)"
   ]
  },
  {
   "cell_type": "code",
   "execution_count": 263,
   "metadata": {},
   "outputs": [],
   "source": [
    "time.sleep(5)\n",
    "sound_text_input = browser.find_element_by_id(\"audio_response_field\")\n",
    "sound_text_input.click()\n",
    "sound_text_input.send_keys('5953496')"
   ]
  },
  {
   "cell_type": "code",
   "execution_count": 264,
   "metadata": {},
   "outputs": [],
   "source": [
    "time.sleep(2)\n",
    "soundverify_btn = browser.find_element_by_id(\"audio_submit\")\n",
    "soundverify_btn.click()"
   ]
  },
  {
   "cell_type": "code",
   "execution_count": 265,
   "metadata": {},
   "outputs": [],
   "source": [
    "browser.switch_to.default_content()"
   ]
  },
  {
   "cell_type": "code",
   "execution_count": 266,
   "metadata": {},
   "outputs": [],
   "source": [
    "iframe1 = browser.find_element_by_xpath(\"/html/body/div[6]/iframe\")\n",
    "browser.switch_to.frame(iframe1)\n",
    "\n",
    "iframe2 = browser.find_element_by_id(\"fc-iframe-wrap\")\n",
    "browser.switch_to.frame(iframe2)"
   ]
  },
  {
   "cell_type": "code",
   "execution_count": 267,
   "metadata": {},
   "outputs": [],
   "source": [
    "if iframe2:\n",
    "     change_btn = browser.find_element_by_xpath(\"/html/body/div[4]/span/a[3]/span\")\n",
    "     \n",
    "     change_btn.click()"
   ]
  },
  {
   "cell_type": "code",
   "execution_count": 268,
   "metadata": {},
   "outputs": [],
   "source": [
    "browser.switch_to.default_content()"
   ]
  },
  {
   "cell_type": "code",
   "execution_count": 269,
   "metadata": {},
   "outputs": [],
   "source": [
    "iframe1 = browser.find_element_by_xpath(\"/html/body/div[6]/iframe\")\n",
    "browser.switch_to.frame(iframe1)\n",
    "\n",
    "iframe2 = browser.find_element_by_id(\"fc-iframe-wrap\")\n",
    "browser.switch_to.frame(iframe2)\n",
    "\n",
    "iframe3 = browser.find_element_by_id(\"CaptchaFrame\")\n",
    "browser.switch_to.frame(iframe3)\n",
    "\n",
    "verifybutton = browser.find_element_by_id(\"home_children_button\")\n",
    "verifybutton.click()"
   ]
  },
  {
   "cell_type": "code",
   "execution_count": 40,
   "metadata": {},
   "outputs": [
    {
     "ename": "ModuleNotFoundError",
     "evalue": "No module named 'azure.cognitiveservices'",
     "output_type": "error",
     "traceback": [
      "\u001b[1;31m---------------------------------------------------------------------------\u001b[0m",
      "\u001b[1;31mModuleNotFoundError\u001b[0m                       Traceback (most recent call last)",
      "\u001b[1;32m<ipython-input-40-b2309d6e129e>\u001b[0m in \u001b[0;36m<module>\u001b[1;34m\u001b[0m\n\u001b[0;32m      6\u001b[0m \u001b[1;33m\u001b[0m\u001b[0m\n\u001b[0;32m      7\u001b[0m \u001b[1;32mimport\u001b[0m \u001b[0mpathlib\u001b[0m\u001b[1;33m\u001b[0m\u001b[1;33m\u001b[0m\u001b[0m\n\u001b[1;32m----> 8\u001b[1;33m \u001b[1;32mimport\u001b[0m \u001b[0mazure\u001b[0m\u001b[1;33m.\u001b[0m\u001b[0mcognitiveservices\u001b[0m\u001b[1;33m.\u001b[0m\u001b[0mspeech\u001b[0m \u001b[1;32mas\u001b[0m \u001b[0mspeechsdk\u001b[0m\u001b[1;33m\u001b[0m\u001b[1;33m\u001b[0m\u001b[0m\n\u001b[0m\u001b[0;32m      9\u001b[0m \u001b[1;33m\u001b[0m\u001b[0m\n\u001b[0;32m     10\u001b[0m \u001b[1;33m\u001b[0m\u001b[0m\n",
      "\u001b[1;31mModuleNotFoundError\u001b[0m: No module named 'azure.cognitiveservices'"
     ]
    }
   ],
   "source": [
    "import azure.cognitiveservices.speech as speechsdk\n",
    "\n",
    "\n",
    "def from_file():\n",
    "    speech_config = speechsdk.SpeechConfig(subscription=\"3785c3171b694795ad5e7ec2bc01ab7f\", region=\"canadacentral\")\n",
    "    audio_input = speechsdk.AudioConfig(filename=latest_file)\n",
    "    speech_recognizer = speechsdk.SpeechRecognizer(speech_config=speech_config, audio_config=audio_input)\n",
    "    \n",
    "    result = speech_recognizer.recognize_once_async().get()\n",
    "    if result.reason == speechsdk.ResultReason.RecognizedSpeech:\n",
    "        print(\"Recognized: {}\".format(result.text))\n",
    "    elif result.reason == speechsdk.ResultReason.NoMatch:\n",
    "        print(\"No speech could be recognized: {}\".format(result.no_match_details))\n",
    "    elif result.reason == speechsdk.ResultReason.Canceled:\n",
    "        cancellation_details = result.cancellation_details\n",
    "        print(\"Speech Recognition canceled: {}\".format(cancellation_details.reason))\n",
    "        if cancellation_details.reason == speechsdk.CancellationReason.Error:\n",
    "            print(\"Error details: {}\".format(cancellation_details.error_details))\n"
   ]
  },
  {
   "cell_type": "code",
   "execution_count": 38,
   "metadata": {
    "scrolled": true
   },
   "outputs": [
    {
     "ename": "NameError",
     "evalue": "name 'from_file' is not defined",
     "output_type": "error",
     "traceback": [
      "\u001b[1;31m---------------------------------------------------------------------------\u001b[0m",
      "\u001b[1;31mNameError\u001b[0m                                 Traceback (most recent call last)",
      "\u001b[1;32m<ipython-input-38-fb9e4a90fcb4>\u001b[0m in \u001b[0;36m<module>\u001b[1;34m\u001b[0m\n\u001b[1;32m----> 1\u001b[1;33m \u001b[0mfrom_file\u001b[0m\u001b[1;33m(\u001b[0m\u001b[1;33m)\u001b[0m\u001b[1;33m\u001b[0m\u001b[1;33m\u001b[0m\u001b[0m\n\u001b[0m",
      "\u001b[1;31mNameError\u001b[0m: name 'from_file' is not defined"
     ]
    }
   ],
   "source": [
    "from_file()"
   ]
  }
 ],
 "metadata": {
  "kernelspec": {
   "display_name": "Python 3",
   "language": "python",
   "name": "python3"
  },
  "language_info": {
   "codemirror_mode": {
    "name": "ipython",
    "version": 3
   },
   "file_extension": ".py",
   "mimetype": "text/x-python",
   "name": "python",
   "nbconvert_exporter": "python",
   "pygments_lexer": "ipython3",
   "version": "3.8.5"
  }
 },
 "nbformat": 4,
 "nbformat_minor": 4
}
